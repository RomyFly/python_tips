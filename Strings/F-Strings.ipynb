{
  "cells": [
    {
      "cell_type": "markdown",
      "source": [
        "#**F-strings (Formatted strings)**"
      ],
      "metadata": {
        "id": "4mHIvA6LWpIU"
      },
      "id": "4mHIvA6LWpIU"
    },
    {
      "cell_type": "markdown",
      "source": [
        "The F-strings a way to embed an expression (variables or functions) inside a string"
      ],
      "metadata": {
        "id": "7JXjJHgMgPBe"
      },
      "id": "7JXjJHgMgPBe"
    },
    {
      "cell_type": "markdown",
      "source": [
        "* **case 1:** F-strings use in print function"
      ],
      "metadata": {
        "id": "9Kqc9ddfhgzr"
      },
      "id": "9Kqc9ddfhgzr"
    },
    {
      "cell_type": "markdown",
      "source": [
        "in this case 2 string variables are embed in a text and next it is printed"
      ],
      "metadata": {
        "id": "ZZk0UaCnVxe1"
      },
      "id": "ZZk0UaCnVxe1"
    },
    {
      "cell_type": "code",
      "source": [
        "name='Paul'\n",
        "age=35\n",
        "print(f'My name is {name} and i am {age} nice to meet you!')"
      ],
      "metadata": {
        "colab": {
          "base_uri": "https://localhost:8080/"
        },
        "id": "LvWpWBqzhzXq",
        "outputId": "e1623b1c-e632-4359-9ec3-b4e545fd0502"
      },
      "execution_count": null,
      "outputs": [
        {
          "output_type": "stream",
          "name": "stdout",
          "text": [
            "My name is Paul and i am 35 nice to meet you!\n"
          ]
        }
      ],
      "id": "LvWpWBqzhzXq"
    },
    {
      "cell_type": "markdown",
      "source": [
        "* **case 2 :** Expression inside F-strings"
      ],
      "metadata": {
        "id": "E98LlOxCjQf6"
      },
      "id": "E98LlOxCjQf6"
    },
    {
      "cell_type": "markdown",
      "source": [
        "Here over the 2 numerical variables the operation expressing the sum of both is also embed in a text"
      ],
      "metadata": {
        "id": "5PNs1wD0WiPH"
      },
      "id": "5PNs1wD0WiPH"
    },
    {
      "cell_type": "code",
      "source": [
        "a=255\n",
        "b=65\n",
        "print(f\"the sum of {a} and {b} is {a+b}.\")"
      ],
      "metadata": {
        "colab": {
          "base_uri": "https://localhost:8080/"
        },
        "id": "htWQNkjNjgCD",
        "outputId": "d0509b42-9439-4d81-c77a-5c513ed75bbd"
      },
      "execution_count": null,
      "outputs": [
        {
          "output_type": "stream",
          "name": "stdout",
          "text": [
            "the sum of 255 and 65 is 320.\n"
          ]
        }
      ],
      "id": "htWQNkjNjgCD"
    },
    {
      "cell_type": "markdown",
      "source": [
        "* **case 3 :** Formatting number"
      ],
      "metadata": {
        "id": "0apoIKL4SpCr"
      },
      "id": "0apoIKL4SpCr"
    },
    {
      "cell_type": "markdown",
      "source": [
        "Here a multiplication expression is integrate in a f-string and the decimal place is formatted in the displaying"
      ],
      "metadata": {
        "id": "dbWxc4nxUL72"
      },
      "id": "dbWxc4nxUL72"
    },
    {
      "cell_type": "code",
      "source": [
        "sales=150\n",
        "unit_price = 5.325\n",
        "print(f\"Total price : USD {sales*unit_price:.3f}\")"
      ],
      "metadata": {
        "colab": {
          "base_uri": "https://localhost:8080/"
        },
        "id": "oZG0S8OyYtNq",
        "outputId": "7d06f545-7777-42f7-baf9-8b9c28aadac8"
      },
      "execution_count": null,
      "outputs": [
        {
          "output_type": "stream",
          "name": "stdout",
          "text": [
            "Total price : USD 798.750\n"
          ]
        }
      ],
      "id": "oZG0S8OyYtNq"
    },
    {
      "cell_type": "markdown",
      "source": [
        "* **case 4 :** Formatting Dates"
      ],
      "metadata": {
        "id": "McdQGGQKcZJX"
      },
      "id": "McdQGGQKcZJX"
    },
    {
      "cell_type": "markdown",
      "source": [
        "A formatted date is embed in a text"
      ],
      "metadata": {
        "id": "zEwdWx7pdVxe"
      },
      "id": "zEwdWx7pdVxe"
    },
    {
      "cell_type": "code",
      "source": [
        "from datetime import datetime\n",
        "today =datetime.now()\n",
        "print(f'I read this code this {today:%A, %B %d, %Y at %I:%M %p} UTC')"
      ],
      "metadata": {
        "colab": {
          "base_uri": "https://localhost:8080/"
        },
        "id": "MGaJQngmdfyA",
        "outputId": "ebf867e0-c70b-43ca-9948-25ec31228902"
      },
      "execution_count": null,
      "outputs": [
        {
          "output_type": "stream",
          "name": "stdout",
          "text": [
            "I read this code this Friday, April 25, 2025 at 07:46 PM UTC\n"
          ]
        }
      ],
      "id": "MGaJQngmdfyA"
    },
    {
      "cell_type": "markdown",
      "source": [
        "* **case 5 :** Dictionnary access\n",
        "\n"
      ],
      "metadata": {
        "id": "HozGTbSMfk1E"
      },
      "id": "HozGTbSMfk1E"
    },
    {
      "cell_type": "code",
      "source": [
        "# here we create a dictionnary variable\n",
        "dic = {'name':'Alan', 'age':15}\n",
        "print(f\"Hello my name is {dic['name']} i'm {dic['age']}\")"
      ],
      "metadata": {
        "colab": {
          "base_uri": "https://localhost:8080/"
        },
        "id": "bCMncpDHhQqo",
        "outputId": "2b83f675-1520-45b0-9163-ac70e98c5ef9"
      },
      "execution_count": null,
      "outputs": [
        {
          "output_type": "stream",
          "name": "stdout",
          "text": [
            "Hello my name is Alan i'm 15\n"
          ]
        }
      ],
      "id": "bCMncpDHhQqo"
    },
    {
      "cell_type": "markdown",
      "source": [
        "* **case 6 :** Alignment and Padding"
      ],
      "metadata": {
        "id": "ZZD9uvkZjr0g"
      },
      "id": "ZZD9uvkZjr0g"
    },
    {
      "cell_type": "code",
      "source": [
        "for i in range (1,4):\n",
        "  print(f'Number {i:03d}') #0 padded to 3 digits"
      ],
      "metadata": {
        "colab": {
          "base_uri": "https://localhost:8080/"
        },
        "id": "iCbViLn4mHeV",
        "outputId": "2691a9ab-e23a-49d1-e082-f05f528caa40"
      },
      "execution_count": null,
      "outputs": [
        {
          "output_type": "stream",
          "name": "stdout",
          "text": [
            "Number 001\n",
            "Number 002\n",
            "Number 003\n"
          ]
        }
      ],
      "id": "iCbViLn4mHeV"
    },
    {
      "cell_type": "markdown",
      "source": [
        "* **case 7 :** Multiline F-Strings"
      ],
      "metadata": {
        "id": "PtvwRTybopD1"
      },
      "id": "PtvwRTybopD1"
    },
    {
      "cell_type": "markdown",
      "source": [
        "As estated in the title the f-string will be used to display a multiline expression"
      ],
      "metadata": {
        "id": "rBleJENMpBma"
      },
      "id": "rBleJENMpBma"
    },
    {
      "cell_type": "code",
      "source": [
        "# variable creation\n",
        "name = 'David'\n",
        "profession = 'Data Scientist'\n",
        "message = (f\" Hello! \"\n",
        "f\"my name is {name} \"\n",
        "f\"my occupation is {profession} \"\n",
        "f\"Nice to meet you!\"\n",
        ")\n",
        "print(message)\n",
        "\n"
      ],
      "metadata": {
        "colab": {
          "base_uri": "https://localhost:8080/"
        },
        "id": "Eq2g34b4vRq-",
        "outputId": "4dd6f371-8595-45a6-f6e3-6e190e1c3d3d"
      },
      "execution_count": null,
      "outputs": [
        {
          "output_type": "stream",
          "name": "stdout",
          "text": [
            " Hello! my name is David my occupation is Data Scientist Nice to meet you\n"
          ]
        }
      ],
      "id": "Eq2g34b4vRq-"
    },
    {
      "cell_type": "markdown",
      "source": [
        "* **case 8 :** Calling a function"
      ],
      "metadata": {
        "id": "NOJndfkVuwjD"
      },
      "id": "NOJndfkVuwjD"
    },
    {
      "cell_type": "markdown",
      "source": [
        "In this case a function is created within which the f-string is embed"
      ],
      "metadata": {
        "id": "0NP3eIMxu5xJ"
      },
      "id": "0NP3eIMxu5xJ"
    },
    {
      "cell_type": "code",
      "source": [
        "def message (name):\n",
        "  return print(f\"Hello! my name is {name}\")\n",
        "message(\"David\")\n"
      ],
      "metadata": {
        "colab": {
          "base_uri": "https://localhost:8080/"
        },
        "id": "1ueJW_wOyTSj",
        "outputId": "9014c5d4-ac3f-463e-dbb7-4e992c926336"
      },
      "execution_count": null,
      "outputs": [
        {
          "output_type": "stream",
          "name": "stdout",
          "text": [
            "Hello! my name is David\n"
          ]
        }
      ],
      "id": "1ueJW_wOyTSj"
    }
  ],
  "metadata": {
    "language_info": {
      "name": "python"
    },
    "colab": {
      "provenance": []
    }
  },
  "nbformat": 4,
  "nbformat_minor": 5
}