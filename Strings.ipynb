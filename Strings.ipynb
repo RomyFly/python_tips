{
 "cells": [
  {
   "cell_type": "markdown",
   "id": "54192949",
   "metadata": {},
   "source": []
  }
 ],
 "metadata": {
  "language_info": {
   "name": "python"
  }
 },
 "nbformat": 4,
 "nbformat_minor": 5
}
